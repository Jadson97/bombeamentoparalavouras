{
 "cells": [
  {
   "cell_type": "code",
   "execution_count": 2,
   "metadata": {},
   "outputs": [
    {
     "name": "stdout",
     "output_type": "stream",
     "text": [
      "Qual a área?STDIN> 50\n",
      "Qual a unidade de medida da área digitada?\n",
      "    [0] m²\n",
      "    [1] hectares\n",
      "    [2] alqueires\n",
      "    [3] linhas\n",
      "    [4] braças\n",
      "    [5] tarefas\n",
      "    [6] acresSTDIN> 0\n"
     ]
    },
    {
     "data": {
      "text/plain": [
       "0"
      ]
     },
     "execution_count": 2,
     "metadata": {},
     "output_type": "execute_result"
    }
   ],
   "source": [
    "print(\"Qual a área?\")\n",
    "area = parse(Float64, readline())\n",
    "\n",
    "print(\"Qual a unidade de medida da área digitada?\n",
    "    [0] m²\n",
    "    [1] hectares\n",
    "    [2] alqueires\n",
    "    [3] linhas\n",
    "    [4] braças\n",
    "    [5] tarefas\n",
    "    [6] acres\")\n",
    "unidade = parse(Int64, readline())\n",
    "\n",
    "print(\"Qual o desnível entre a fonte de água e a caixa d'água? [m]\")\n",
    "desnivel = parse(Float64, readline())\n",
    "\n",
    "\n",
    "    "
   ]
  },
  {
   "cell_type": "code",
   "execution_count": 3,
   "metadata": {},
   "outputs": [
    {
     "ename": "LoadError",
     "evalue": "\u001b[91msyntax: extra token \"desnível\" after end of expression\u001b[39m",
     "output_type": "error",
     "traceback": [
      "\u001b[91msyntax: extra token \"desnível\" after end of expression\u001b[39m",
      "",
      "Stacktrace:",
      " [1] \u001b[1minclude_string\u001b[22m\u001b[22m\u001b[1m(\u001b[22m\u001b[22m::String, ::String\u001b[1m)\u001b[22m\u001b[22m at \u001b[1m.\\loading.jl:522\u001b[22m\u001b[22m"
     ]
    }
   ],
   "source": [
    "o desnível e distâncias entre a fonte de água e a sua plantação (0,5 pontos);\n",
    "a cultura plantada na lavoura (feijão, milho, mandioca, alface, etc...) (1 pontos);\n",
    "as dimensões de sua lavoura (possivelmente em  m2m2 , hectares, alqueires, linhas, braças, etc...) (1 pontos) e\n",
    "fonte de energia (Tensão) (0,5 pontos).\n",
    "Outras funcionalidades inovadoras (1 ponto).\n",
    "\n",
    "Código implementado (1 ponto)"
   ]
  },
  {
   "cell_type": "code",
   "execution_count": null,
   "metadata": {
    "collapsed": true
   },
   "outputs": [],
   "source": []
  }
 ],
 "metadata": {
  "kernelspec": {
   "display_name": "Julia 0.6.2",
   "language": "julia",
   "name": "julia-0.6"
  },
  "language_info": {
   "file_extension": ".jl",
   "mimetype": "application/julia",
   "name": "julia",
   "version": "0.6.2"
  }
 },
 "nbformat": 4,
 "nbformat_minor": 2
}
